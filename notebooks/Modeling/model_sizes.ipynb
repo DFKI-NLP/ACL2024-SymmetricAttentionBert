{
 "cells": [
  {
   "cell_type": "code",
   "execution_count": 1,
   "id": "7249cfe4-ae5c-4002-b309-7345a8357aca",
   "metadata": {},
   "outputs": [],
   "source": [
    "import plpi.models as P\n",
    "import transformers as T\n",
    "\n",
    "small = P.RobertaConfig(\n",
    "    classifier_dropout=None,\n",
    "    hidden_act=\"gelu\",\n",
    "    hidden_size=512,\n",
    "    intermediate_size=2048,\n",
    "    layer_norm_eps=1e-05,\n",
    "    max_position_embeddings=514,\n",
    "    num_attention_heads=8,\n",
    "    num_hidden_layers=4,\n",
    "    position_embedding_type=\"absolute\",\n",
    "    bos_token_id=0,\n",
    "    pad_token_id=1,\n",
    "    eos_token_id=2,\n",
    "    type_vocab_size=1,\n",
    "    use_cache=True,\n",
    "    vocab_size=50265,\n",
    "    plpi_head_configuration=\"vanilla\",\n",
    ")\n",
    "base = P.RobertaConfig(\n",
    "    classifier_dropout=None,\n",
    "    hidden_act=\"gelu\",\n",
    "    hidden_size=768,\n",
    "    intermediate_size=3072,\n",
    "    layer_norm_eps=1e-05,\n",
    "    max_position_embeddings=514,\n",
    "    num_attention_heads=12,\n",
    "    num_hidden_layers=12,\n",
    "    position_embedding_type=\"absolute\",\n",
    "    bos_token_id=0,\n",
    "    pad_token_id=1,\n",
    "    eos_token_id=2,\n",
    "    type_vocab_size=1,\n",
    "    use_cache=True,\n",
    "    vocab_size=50265,\n",
    "    plpi_head_configuration=\"vanilla\",\n",
    ")\n",
    "large = P.RobertaConfig(\n",
    "    classifier_dropout=None,\n",
    "    hidden_act=\"gelu\",\n",
    "    hidden_size=1024,\n",
    "    intermediate_size=4096,\n",
    "    layer_norm_eps=1e-05,\n",
    "    max_position_embeddings=514,\n",
    "    num_attention_heads=16,\n",
    "    num_hidden_layers=24,\n",
    "    position_embedding_type=\"absolute\",\n",
    "    bos_token_id=0,\n",
    "    pad_token_id=1,\n",
    "    eos_token_id=2,\n",
    "    type_vocab_size=1,\n",
    "    use_cache=True,\n",
    "    vocab_size=50265,\n",
    "    plpi_head_configuration=\"vanilla\",\n",
    ")"
   ]
  },
  {
   "cell_type": "code",
   "execution_count": 3,
   "id": "56e0f949-773a-417f-a4e2-95427019e999",
   "metadata": {},
   "outputs": [],
   "source": [
    "import copy\n",
    "\n",
    "small_A = small\n",
    "small_B = copy.copy(small)\n",
    "small_B.plpi_head_configuration=\"pairwise\"\n",
    "small_C = copy.copy(small)\n",
    "small_C.plpi_head_configuration=\"symmetric\"\n",
    "\n",
    "base_A = base\n",
    "base_B = copy.copy(base)\n",
    "base_B.plpi_head_configuration=\"pairwise\"\n",
    "base_C = copy.copy(base)\n",
    "base_C.plpi_head_configuration=\"symmetric\"\n",
    "\n",
    "large_A = large\n",
    "large_B = copy.copy(large)\n",
    "large_B.plpi_head_configuration=\"pairwise\"\n",
    "large_C = copy.copy(large)\n",
    "large_C.plpi_head_configuration=\"symmetric\""
   ]
  },
  {
   "cell_type": "code",
   "execution_count": 4,
   "id": "20a3e81d-acd0-4a97-b214-3da0bcdecf52",
   "metadata": {},
   "outputs": [],
   "source": [
    "smA = P.RobertaModel(small_A).num_parameters()\n",
    "smB = P.RobertaModel(small_B).num_parameters()\n",
    "smC = P.RobertaModel(small_C).num_parameters()\n",
    "\n",
    "baA = P.RobertaModel(base_A).num_parameters()\n",
    "baB = P.RobertaModel(base_B).num_parameters()\n",
    "baC = P.RobertaModel(base_C).num_parameters()\n",
    "\n",
    "laA = P.RobertaModel(large_A).num_parameters()\n",
    "laB = P.RobertaModel(large_B).num_parameters()\n",
    "laC = P.RobertaModel(large_C).num_parameters()"
   ]
  },
  {
   "cell_type": "code",
   "execution_count": 5,
   "id": "1afac616-2aa2-4676-996e-29db2a91dc11",
   "metadata": {},
   "outputs": [
    {
     "name": "stdout",
     "output_type": "stream",
     "text": [
      "38_872_576, 37_953_024, 37_821_952\n",
      "124_645_632, 118_148_352, 117_558_528\n",
      "355_359_744, 331_742_208, 330_169_344\n"
     ]
    }
   ],
   "source": [
    "print(f\"{smA:_}, {smB:_}, {smC:_}\")\n",
    "print(f\"{baA:_}, {baB:_}, {baC:_}\")\n",
    "print(f\"{laA:_}, {laB:_}, {laC:_}\")"
   ]
  },
  {
   "cell_type": "code",
   "execution_count": 6,
   "id": "c548165d-718f-4a33-85e3-03582f7b57c1",
   "metadata": {},
   "outputs": [
    {
     "name": "stdout",
     "output_type": "stream",
     "text": [
      "2.3655545750299645\n",
      "2.702738300646708\n",
      "\n",
      "5.212601433157321\n",
      "5.685802130635432\n",
      "\n",
      "6.646092135861061\n",
      "7.088703891006856\n"
     ]
    }
   ],
   "source": [
    "print(100 * (smA - smB) / smA)\n",
    "print(100 * (smA - smC) / smA)\n",
    "print()\n",
    "print(100 * (baA - baB) / baA)\n",
    "print(100 * (baA - baC) / baA)\n",
    "print()\n",
    "print(100 * (laA - laB) / laA)\n",
    "print(100 * (laA - laC) / laA)"
   ]
  }
 ],
 "metadata": {
  "kernelspec": {
   "display_name": "Python 3 (ipykernel)",
   "language": "python",
   "name": "python3"
  },
  "language_info": {
   "codemirror_mode": {
    "name": "ipython",
    "version": 3
   },
   "file_extension": ".py",
   "mimetype": "text/x-python",
   "name": "python",
   "nbconvert_exporter": "python",
   "pygments_lexer": "ipython3",
   "version": "3.10.10"
  }
 },
 "nbformat": 4,
 "nbformat_minor": 5
}
